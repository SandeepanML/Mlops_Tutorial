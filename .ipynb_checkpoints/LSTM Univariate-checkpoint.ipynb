{
 "cells": [
  {
   "cell_type": "code",
   "execution_count": 1,
   "id": "904e3bc6-94f3-4537-a455-a5dbce9249c6",
   "metadata": {},
   "outputs": [],
   "source": [
    "import numpy as np\n",
    "import pandas as pd\n",
    "import matplotlib.pyplot as plt\n",
    "import math\n",
    "\n",
    "from sklearn.metrics import mean_squared_error, r2_score\n",
    "from sklearn.preprocessing import MinMaxScaler"
   ]
  },
  {
   "cell_type": "markdown",
   "id": "fffc4c97-db50-4fc2-8d85-2d4df8cdaaac",
   "metadata": {},
   "source": [
    "Here’s a breakdown:\n",
    "\n",
    "- Batch size (32): It means that during each iteration, the model processes 32 samples of your training data (i.e., X_train and y_train) at a time.\n",
    "\n",
    "- After processing these 32 samples, the model calculates the error (based on the loss function) and updates the weights of the network (using the adam optimizer in your case).\n",
    "\n",
    "- Epochs (30): This is the number of times the entire training dataset (X_train and y_train) is passed through the model.\n",
    "\n",
    "- For example, if you have 10,000 training samples and you set the batch_size to 32, the model will process 32 samples at a time until it has gone through all 10,000 samples. This would take 10000/32=312.5\n",
    "\n",
    "- 312.5 iterations to complete one epoch. The process will repeat for 30 epochs in total.\n",
    "\n",
    "- Small batch sizes (e.g., 16 or 32) may lead to faster convergence but could cause the model to be more \"noisy.\"\n",
    "\n",
    "- Larger batch sizes make the training more stable but require more memory and may take longer per update."
   ]
  },
  {
   "cell_type": "code",
   "execution_count": 2,
   "id": "172d10e0-44f7-4bdf-8b6b-a2d118c00cc8",
   "metadata": {},
   "outputs": [],
   "source": [
    "df = pd.read_csv(\"C:\\\\Users\\\\write\\\\Downloads\\\\Solar+Data+Set.csv\")"
   ]
  },
  {
   "cell_type": "code",
   "execution_count": 3,
   "id": "857ee120-cf60-4759-97ac-9f67d94503aa",
   "metadata": {},
   "outputs": [
    {
     "data": {
      "text/plain": [
       "(8760, 2)"
      ]
     },
     "execution_count": 3,
     "metadata": {},
     "output_type": "execute_result"
    }
   ],
   "source": [
    "df.shape"
   ]
  },
  {
   "cell_type": "code",
   "execution_count": 4,
   "id": "a1ea9d86-8d73-4a77-a205-8c8bbd27a228",
   "metadata": {},
   "outputs": [],
   "source": [
    "df.dropna(inplace = True)"
   ]
  },
  {
   "cell_type": "code",
   "execution_count": 5,
   "id": "099a91da-e38b-4b48-bf42-f769472c2a5d",
   "metadata": {},
   "outputs": [
    {
     "data": {
      "text/plain": [
       "Index(['Date', 'Solar Ir '], dtype='object')"
      ]
     },
     "execution_count": 5,
     "metadata": {},
     "output_type": "execute_result"
    }
   ],
   "source": [
    "df.columns"
   ]
  },
  {
   "cell_type": "code",
   "execution_count": 6,
   "id": "f9531f91-efdd-47a7-bf33-ccfa646654bd",
   "metadata": {},
   "outputs": [],
   "source": [
    "training_set = df.iloc[:8712, 1:2].values"
   ]
  },
  {
   "cell_type": "code",
   "execution_count": 7,
   "id": "d011ad4c-60d8-411f-b4a1-1683aa387a48",
   "metadata": {},
   "outputs": [],
   "source": [
    "test_set = df.iloc[8712:, 1:2].values"
   ]
  },
  {
   "cell_type": "code",
   "execution_count": 8,
   "id": "7301af44-5987-48dd-b763-f13c43e4e1b2",
   "metadata": {},
   "outputs": [],
   "source": [
    "sc = MinMaxScaler(feature_range = (0, 1))"
   ]
  },
  {
   "cell_type": "code",
   "execution_count": 9,
   "id": "013118e4-24d2-41ce-ae76-fdf54b216383",
   "metadata": {},
   "outputs": [],
   "source": [
    "training_set_scaled = sc.fit_transform(training_set)"
   ]
  },
  {
   "cell_type": "code",
   "execution_count": 10,
   "id": "93d032fd-55bc-4142-89c5-72445196941a",
   "metadata": {},
   "outputs": [],
   "source": [
    "test_set_scaled = sc.fit_transform(test_set)"
   ]
  },
  {
   "cell_type": "markdown",
   "id": "68fa1837-5871-4fdd-9620-4f75a358f2d4",
   "metadata": {},
   "source": [
    "### Look Back Window - Training"
   ]
  },
  {
   "cell_type": "markdown",
   "id": "82784c7a-d163-4570-8a30-efcca44a43c4",
   "metadata": {},
   "source": [
    "- In Look back Period,  you will need to consider atleast 1 seasonality in your look back period..\n",
    "- Larger the look back period is the more the expensive is your model computation..\n",
    "- If you set the lookback period to 4, it means you are adding 4 features to your dataset, you are multiplying the dataset 4 times..\n",
    "- So try not to use **very big window** size.. "
   ]
  },
  {
   "cell_type": "code",
   "execution_count": 11,
   "id": "e3ee7957-777c-4d76-843c-fedad5185686",
   "metadata": {},
   "outputs": [],
   "source": [
    "X_train = []\n",
    "y_train = []"
   ]
  },
  {
   "cell_type": "code",
   "execution_count": 12,
   "id": "8dc244f7-de76-4518-8966-d4874e070956",
   "metadata": {},
   "outputs": [],
   "source": [
    "Window_Size = 24"
   ]
  },
  {
   "cell_type": "code",
   "execution_count": 13,
   "id": "fb08ac68-645c-419d-9ed8-9b31b1f5bde9",
   "metadata": {},
   "outputs": [],
   "source": [
    "for i in range(Window_Size, training_set_scaled.shape[0]):\n",
    "    X_train.append(training_set_scaled[i - Window_Size:i, 0:1])\n",
    "    y_train.append(training_set_scaled[i, 0])"
   ]
  },
  {
   "cell_type": "code",
   "execution_count": 14,
   "id": "62a9beec-ae74-4c4a-83ca-be29d5835ca2",
   "metadata": {},
   "outputs": [],
   "source": [
    "X_train, y_train = np.array(X_train), np.array(y_train)"
   ]
  },
  {
   "cell_type": "code",
   "execution_count": 18,
   "id": "32b6a704-2a64-4275-9400-b3bf05132b2f",
   "metadata": {},
   "outputs": [
    {
     "data": {
      "text/plain": [
       "(8688, 24, 1)"
      ]
     },
     "execution_count": 18,
     "metadata": {},
     "output_type": "execute_result"
    }
   ],
   "source": [
    "X_train.shape"
   ]
  },
  {
   "cell_type": "markdown",
   "id": "ecb508af-5d48-4578-b60f-30d187221613",
   "metadata": {},
   "source": [
    "### Developing LSTM Model"
   ]
  },
  {
   "cell_type": "code",
   "execution_count": 21,
   "id": "39f9a87f-0611-4f12-97f1-2e0e46e96939",
   "metadata": {},
   "outputs": [],
   "source": [
    "from keras.models import Sequential\n",
    "from keras.layers import LSTM, Dense, Dropout, Reshape\n",
    "from keras.models import load_model"
   ]
  },
  {
   "cell_type": "code",
   "execution_count": 57,
   "id": "57b6a910-f17f-4cf8-9e15-75fc6cbe6dd8",
   "metadata": {},
   "outputs": [],
   "source": [
    "uniLSTM = Sequential()\n",
    "uniLSTM.add(LSTM(units = 60, return_sequences = True, input_shape = [24, 1]))\n",
    "\n",
    "### \"return_sequences\" Parameter is needed to maintain the Window Size..\n",
    "\n",
    "uniLSTM.add(Dropout(0.1))\n",
    "uniLSTM.add(LSTM(units = 60, return_sequences = True))\n",
    "uniLSTM.add(Dropout(0.1))\n",
    "uniLSTM.add(LSTM(units = 60, return_sequences = True))\n",
    "\n",
    "### Add some Dense Layers\n",
    "\n",
    "uniLSTM.add(Dense(units = 100)) # Shape: (batch_size, 24, 48)\n",
    "uniLSTM.add(Dense(units = 50)) # Shape: (batch_size, 24, 24)\n",
    "\n",
    "### Consider these units as Features and dont include them in Window Size/Feature Window..\n",
    "### Keep the Window Size Fixed throughout the Model Architecture.. \n",
    "### So you have to keep in mind that the Window Size which is 24 in our case is fixed and hidden, you have to multiply Window Size with the Dense Units.\n",
    "\n",
    "uniLSTM.add(Reshape((24, 50)))\n",
    "uniLSTM.add(LSTM(units = 60, return_sequences = True))\n",
    "uniLSTM.add(Dropout(0.1))\n",
    "uniLSTM.add(LSTM(units = 60))\n",
    "uniLSTM.add(Dropout(0.1))\n",
    "uniLSTM.add(Dense(units = 1))"
   ]
  },
  {
   "cell_type": "code",
   "execution_count": 44,
   "id": "75fbb563-efef-421f-80a7-a00dce01c1f7",
   "metadata": {},
   "outputs": [
    {
     "name": "stdout",
     "output_type": "stream",
     "text": [
      "Model: \"sequential_20\"\n",
      "_________________________________________________________________\n",
      " Layer (type)                Output Shape              Param #   \n",
      "=================================================================\n",
      " lstm_72 (LSTM)              (None, 24, 60)            14880     \n",
      "                                                                 \n",
      " dropout_52 (Dropout)        (None, 24, 60)            0         \n",
      "                                                                 \n",
      " lstm_73 (LSTM)              (None, 24, 60)            29040     \n",
      "                                                                 \n",
      " dropout_53 (Dropout)        (None, 24, 60)            0         \n",
      "                                                                 \n",
      " lstm_74 (LSTM)              (None, 24, 60)            29040     \n",
      "                                                                 \n",
      " dense_34 (Dense)            (None, 24, 100)           6100      \n",
      "                                                                 \n",
      " dense_35 (Dense)            (None, 24, 50)            5050      \n",
      "                                                                 \n",
      " reshape_18 (Reshape)        (None, 24, 50)            0         \n",
      "                                                                 \n",
      " lstm_75 (LSTM)              (None, 24, 60)            26640     \n",
      "                                                                 \n",
      " dropout_54 (Dropout)        (None, 24, 60)            0         \n",
      "                                                                 \n",
      " lstm_76 (LSTM)              (None, 60)                29040     \n",
      "                                                                 \n",
      " dropout_55 (Dropout)        (None, 60)                0         \n",
      "                                                                 \n",
      " dense_36 (Dense)            (None, 1)                 61        \n",
      "                                                                 \n",
      "=================================================================\n",
      "Total params: 139851 (546.29 KB)\n",
      "Trainable params: 139851 (546.29 KB)\n",
      "Non-trainable params: 0 (0.00 Byte)\n",
      "_________________________________________________________________\n"
     ]
    }
   ],
   "source": [
    "uniLSTM.summary()"
   ]
  },
  {
   "cell_type": "code",
   "execution_count": 45,
   "id": "d517ec51-0356-4450-9bc0-f0d839d38fee",
   "metadata": {},
   "outputs": [],
   "source": [
    "uniLSTM.compile(optimizer = \"adam\",\n",
    "                loss = \"mean_squared_error\")"
   ]
  },
  {
   "cell_type": "code",
   "execution_count": 46,
   "id": "905f4b22-9464-49e5-8270-6fc093596f10",
   "metadata": {},
   "outputs": [
    {
     "name": "stdout",
     "output_type": "stream",
     "text": [
      "Epoch 1/30\n",
      "272/272 [==============================] - 37s 93ms/step - loss: 0.0199\n",
      "Epoch 2/30\n",
      "272/272 [==============================] - 24s 90ms/step - loss: 0.0053\n",
      "Epoch 3/30\n",
      "272/272 [==============================] - 25s 94ms/step - loss: 0.0037\n",
      "Epoch 4/30\n",
      "272/272 [==============================] - 25s 94ms/step - loss: 0.0025\n",
      "Epoch 5/30\n",
      "272/272 [==============================] - 26s 94ms/step - loss: 0.0021\n",
      "Epoch 6/30\n",
      "272/272 [==============================] - 26s 95ms/step - loss: 0.0018\n",
      "Epoch 7/30\n",
      "272/272 [==============================] - 26s 96ms/step - loss: 0.0016\n",
      "Epoch 8/30\n",
      "272/272 [==============================] - 26s 95ms/step - loss: 0.0014\n",
      "Epoch 9/30\n",
      "272/272 [==============================] - 26s 95ms/step - loss: 0.0015\n",
      "Epoch 10/30\n",
      "272/272 [==============================] - 26s 96ms/step - loss: 0.0013\n",
      "Epoch 11/30\n",
      "272/272 [==============================] - 24s 89ms/step - loss: 0.0012\n",
      "Epoch 12/30\n",
      "272/272 [==============================] - 26s 95ms/step - loss: 0.0013\n",
      "Epoch 13/30\n",
      "272/272 [==============================] - 25s 92ms/step - loss: 0.0011\n",
      "Epoch 14/30\n",
      "272/272 [==============================] - 25s 91ms/step - loss: 9.1863e-04\n",
      "Epoch 15/30\n",
      "272/272 [==============================] - 26s 96ms/step - loss: 0.0010\n",
      "Epoch 16/30\n",
      "272/272 [==============================] - 26s 95ms/step - loss: 0.0011\n",
      "Epoch 17/30\n",
      "272/272 [==============================] - 26s 96ms/step - loss: 9.1913e-04\n",
      "Epoch 18/30\n",
      "272/272 [==============================] - 25s 92ms/step - loss: 8.9846e-04\n",
      "Epoch 19/30\n",
      "272/272 [==============================] - 26s 96ms/step - loss: 7.5374e-04\n",
      "Epoch 20/30\n",
      "272/272 [==============================] - 26s 96ms/step - loss: 7.0392e-04\n",
      "Epoch 21/30\n",
      "272/272 [==============================] - 26s 97ms/step - loss: 9.1321e-04\n",
      "Epoch 22/30\n",
      "272/272 [==============================] - 24s 88ms/step - loss: 7.1178e-04\n",
      "Epoch 23/30\n",
      "272/272 [==============================] - 23s 84ms/step - loss: 6.3193e-04\n",
      "Epoch 24/30\n",
      "272/272 [==============================] - 26s 95ms/step - loss: 8.6142e-04\n",
      "Epoch 25/30\n",
      "272/272 [==============================] - 25s 94ms/step - loss: 6.6046e-04\n",
      "Epoch 26/30\n",
      "272/272 [==============================] - 26s 95ms/step - loss: 6.5294e-04\n",
      "Epoch 27/30\n",
      "272/272 [==============================] - 22s 82ms/step - loss: 7.7531e-04\n",
      "Epoch 28/30\n",
      "272/272 [==============================] - 26s 95ms/step - loss: 6.1725e-04\n",
      "Epoch 29/30\n",
      "272/272 [==============================] - 26s 96ms/step - loss: 6.5688e-04\n",
      "Epoch 30/30\n",
      "272/272 [==============================] - 26s 95ms/step - loss: 5.9663e-04\n"
     ]
    },
    {
     "data": {
      "text/plain": [
       "<keras.src.callbacks.History at 0x1e755f2f700>"
      ]
     },
     "execution_count": 46,
     "metadata": {},
     "output_type": "execute_result"
    }
   ],
   "source": [
    "uniLSTM.fit(X_train, \n",
    "            y_train,\n",
    "            epochs = 30,\n",
    "            batch_size = 32)"
   ]
  },
  {
   "cell_type": "code",
   "execution_count": 47,
   "id": "a90bd016-9847-4e54-8c02-685132e72271",
   "metadata": {},
   "outputs": [
    {
     "name": "stdout",
     "output_type": "stream",
     "text": [
      "INFO:tensorflow:Assets written to: LSTM_univariate_V1\\assets\n"
     ]
    },
    {
     "name": "stderr",
     "output_type": "stream",
     "text": [
      "INFO:tensorflow:Assets written to: LSTM_univariate_V1\\assets\n"
     ]
    }
   ],
   "source": [
    "uniLSTM.save(\"LSTM_univariate_V1\")"
   ]
  },
  {
   "cell_type": "code",
   "execution_count": 48,
   "id": "acc7e7d8-df67-4780-b197-36e2c1526dfe",
   "metadata": {},
   "outputs": [
    {
     "data": {
      "image/png": "[encoded data removed]",
      "text/plain": [
       "<Figure size 640x480 with 1 Axes>"
      ]
     },
     "metadata": {},
     "output_type": "display_data"
    }
   ],
   "source": [
    "plt.plot(range(len(uniLSTM.history.history[\"loss\"])), uniLSTM.history.history[\"loss\"])\n",
    "plt.xlabel(\"Number of Epochs\")\n",
    "plt.ylabel(\"Loss\")\n",
    "plt.show()"
   ]
  },
  {
   "cell_type": "code",
   "execution_count": 49,
   "id": "a787e721-d0da-4796-805c-46b4dbb4b8d2",
   "metadata": {},
   "outputs": [],
   "source": [
    "NV_LSTM_Univariate = load_model(\"LSTM_univariate_V1\")"
   ]
  },
  {
   "cell_type": "markdown",
   "id": "f1336ae6-061d-4fbb-80e2-8dfc68e1a7c1",
   "metadata": {},
   "source": [
    "### Using the Univariate LSTM Model to Predict"
   ]
  },
  {
   "cell_type": "code",
   "execution_count": 50,
   "id": "9e322277-9a4c-418a-b8b7-381b1f38f990",
   "metadata": {},
   "outputs": [
    {
     "data": {
      "text/plain": [
       "(48, 1)"
      ]
     },
     "execution_count": 50,
     "metadata": {},
     "output_type": "execute_result"
    }
   ],
   "source": [
    "test_set.shape"
   ]
  },
  {
   "cell_type": "markdown",
   "id": "8a2ba2c0-4a66-4823-8e76-05dba072c914",
   "metadata": {},
   "source": [
    "- We will start with last 24 of the training data to predict 25th and the from there we will go till 48th prediction.. "
   ]
  },
  {
   "cell_type": "code",
   "execution_count": 51,
   "id": "08c7277d-2ca3-4ed6-8305-608ab9da15be",
   "metadata": {},
   "outputs": [],
   "source": [
    "batch_pred = training_set_scaled[-Window_Size:]\n",
    "batch_pred_reshape = batch_pred.reshape((1, Window_Size, 1))"
   ]
  },
  {
   "cell_type": "code",
   "execution_count": 52,
   "id": "7a932f68-8f15-428c-9338-72e9bb1b2406",
   "metadata": {},
   "outputs": [
    {
     "name": "stdout",
     "output_type": "stream",
     "text": [
      "1/1 [==============================] - 3s 3s/step\n",
      "1/1 [==============================] - 0s 35ms/step\n",
      "1/1 [==============================] - 0s 36ms/step\n",
      "1/1 [==============================] - 0s 34ms/step\n",
      "1/1 [==============================] - 0s 29ms/step\n",
      "1/1 [==============================] - 0s 36ms/step\n",
      "1/1 [==============================] - 0s 37ms/step\n",
      "1/1 [==============================] - 0s 37ms/step\n",
      "1/1 [==============================] - 0s 36ms/step\n",
      "1/1 [==============================] - 0s 34ms/step\n",
      "1/1 [==============================] - 0s 37ms/step\n",
      "1/1 [==============================] - 0s 35ms/step\n",
      "1/1 [==============================] - 0s 38ms/step\n",
      "1/1 [==============================] - 0s 37ms/step\n",
      "1/1 [==============================] - 0s 42ms/step\n",
      "1/1 [==============================] - 0s 37ms/step\n",
      "1/1 [==============================] - 0s 36ms/step\n",
      "1/1 [==============================] - 0s 36ms/step\n",
      "1/1 [==============================] - 0s 37ms/step\n",
      "1/1 [==============================] - 0s 35ms/step\n",
      "1/1 [==============================] - 0s 41ms/step\n",
      "1/1 [==============================] - 0s 48ms/step\n",
      "1/1 [==============================] - 0s 38ms/step\n",
      "1/1 [==============================] - 0s 36ms/step\n",
      "1/1 [==============================] - 0s 36ms/step\n",
      "1/1 [==============================] - 0s 41ms/step\n",
      "1/1 [==============================] - 0s 39ms/step\n",
      "1/1 [==============================] - 0s 36ms/step\n",
      "1/1 [==============================] - 0s 39ms/step\n",
      "1/1 [==============================] - 0s 36ms/step\n",
      "1/1 [==============================] - 0s 37ms/step\n",
      "1/1 [==============================] - 0s 47ms/step\n",
      "1/1 [==============================] - 0s 44ms/step\n",
      "1/1 [==============================] - 0s 36ms/step\n",
      "1/1 [==============================] - 0s 43ms/step\n",
      "1/1 [==============================] - 0s 35ms/step\n",
      "1/1 [==============================] - 0s 35ms/step\n",
      "1/1 [==============================] - 0s 35ms/step\n",
      "1/1 [==============================] - 0s 36ms/step\n",
      "1/1 [==============================] - 0s 35ms/step\n",
      "1/1 [==============================] - 0s 36ms/step\n",
      "1/1 [==============================] - 0s 37ms/step\n",
      "1/1 [==============================] - 0s 36ms/step\n",
      "1/1 [==============================] - 0s 40ms/step\n",
      "1/1 [==============================] - 0s 36ms/step\n",
      "1/1 [==============================] - 0s 36ms/step\n",
      "1/1 [==============================] - 0s 36ms/step\n",
      "1/1 [==============================] - 0s 34ms/step\n"
     ]
    }
   ],
   "source": [
    "prediction_acc = []\n",
    "\n",
    "for item in range(48):\n",
    "    pred = NV_LSTM_Univariate.predict(batch_pred_reshape)[0]\n",
    "    prediction_acc.append(pred)\n",
    "\n",
    "    ## take the elements after removing the first and append the pred at the bottom\n",
    "\n",
    "    batch_pred_reshape = np.append(batch_pred_reshape[:, 1:, :], [[pred]], axis = 1)"
   ]
  },
  {
   "cell_type": "code",
   "execution_count": 53,
   "id": "0528bb70-2881-4a9a-b6d5-5bc9b41a902e",
   "metadata": {},
   "outputs": [],
   "source": [
    "prediction_acc = np.array(prediction_acc)"
   ]
  },
  {
   "cell_type": "code",
   "execution_count": 54,
   "id": "79816ac2-d808-46a4-899a-3a53a661df51",
   "metadata": {},
   "outputs": [],
   "source": [
    "prediction = sc.inverse_transform(prediction_acc)"
   ]
  },
  {
   "cell_type": "markdown",
   "id": "53bea8c6-8edc-433a-bef7-ab8954c0cfef",
   "metadata": {},
   "source": [
    "#### Plot the Results and Comparision"
   ]
  },
  {
   "cell_type": "code",
   "execution_count": 55,
   "id": "580f4acc-8dc7-482f-825e-943ae125b9e9",
   "metadata": {},
   "outputs": [
    {
     "data": {
      "image/png": "[encoded data removed]",
      "text/plain": [
       "<Figure size 640x480 with 1 Axes>"
      ]
     },
     "metadata": {},
     "output_type": "display_data"
    }
   ],
   "source": [
    "plt.plot(test_set, color = \"red\", label = \"Actual Values\")\n",
    "plt.plot(prediction, color = \"blue\", label = \"Predicted Values\")\n",
    "plt.show()"
   ]
  },
  {
   "cell_type": "markdown",
   "id": "44f54464-e3a6-4818-ace2-1f7de633d9b1",
   "metadata": {},
   "source": [
    "#### Evaluate the Scores"
   ]
  },
  {
   "cell_type": "code",
   "execution_count": 56,
   "id": "d131e336-b12b-48f7-8ced-df7cc027cfd6",
   "metadata": {},
   "outputs": [
    {
     "name": "stdout",
     "output_type": "stream",
     "text": [
      "Mean_Squared_Error :  0.008855242368605569\n",
      "R2_Score :  0.9795713062187004\n"
     ]
    }
   ],
   "source": [
    "print(\"Mean_Squared_Error : \", math.sqrt(mean_squared_error(test_set, prediction)))\n",
    "print(\"R2_Score : \", r2_score(test_set, prediction))"
   ]
  },
  {
   "cell_type": "code",
   "execution_count": null,
   "id": "20d91fcc-d500-4cab-9c9e-34ebe1132695",
   "metadata": {},
   "outputs": [],
   "source": []
  }
 ],
 "metadata": {
  "kernelspec": {
   "display_name": "Python 3 (ipykernel)",
   "language": "python",
   "name": "python3"
  },
  "language_info": {
   "codemirror_mode": {
    "name": "ipython",
    "version": 3
   },
   "file_extension": ".py",
   "mimetype": "text/x-python",
   "name": "python",
   "nbconvert_exporter": "python",
   "pygments_lexer": "ipython3",
   "version": "3.8.19"
  }
 },
 "nbformat": 4,
 "nbformat_minor": 5
}
